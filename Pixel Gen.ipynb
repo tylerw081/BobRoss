{
 "cells": [
  {
   "cell_type": "code",
   "execution_count": 1,
   "id": "203ac247",
   "metadata": {},
   "outputs": [],
   "source": [
    "folder_path = 'C:\\\\Users\\\\tyler\\\\OneDrive\\\\Iron Viz 2022\\\\Data\\\\Bob_Ross_Paintings-master\\\\Bob_Ross_Paintings-master\\\\data\\\\paintings'\n",
    "painting = \"painting17.png\"\n",
    "file = folder_path+\"\\\\\"+painting\n"
   ]
  },
  {
   "cell_type": "code",
   "execution_count": 2,
   "id": "f77c6fe4",
   "metadata": {},
   "outputs": [],
   "source": [
    "from PIL import Image\n",
    "import numpy as np\n",
    "import pandas as pd\n",
    "import os\n",
    "import cv2"
   ]
  },
  {
   "cell_type": "code",
   "execution_count": 3,
   "id": "0f2914f8",
   "metadata": {},
   "outputs": [],
   "source": [
    "color_file = pd.read_csv('C:\\\\Users\\\\tyler\\\\OneDrive\\\\Iron Viz 2022\\\\Data\\\\Bob_Ross_Paintings-master\\\\Bob_Ross_Paintings-master\\\\data\\\\Colors.csv',encoding = \"ISO-8859-1\")\n",
    "color_file = color_file.dropna()"
   ]
  },
  {
   "cell_type": "code",
   "execution_count": 21,
   "id": "e501a3ae",
   "metadata": {},
   "outputs": [],
   "source": [
    "def recognize_color(RGB):\n",
    "    minimum = 10000\n",
    "    R=RGB[0]\n",
    "    G=RGB[1]\n",
    "    B=RGB[2]\n",
    "    for i in range(len(color_file)):\n",
    "        d = abs(R- int(color_file.loc[i,\"R\"])) + abs(G- int(color_file.loc[i,\"G\"]))+ abs(B- int(color_file.loc[i,\"B\"]))\n",
    "        if(d<=minimum):\n",
    "            minimum = d\n",
    "            cname = color_file.loc[i,\"Name_Code\"]\n",
    "    return cname"
   ]
  },
  {
   "cell_type": "code",
   "execution_count": 4,
   "id": "ebc49894",
   "metadata": {},
   "outputs": [
    {
     "name": "stdout",
     "output_type": "stream",
     "text": [
      "painting100.png Start\n",
      "painting100.png End\n",
      "painting10.png Start\n",
      "painting10.png End\n",
      "painting17.png Start\n",
      "painting17.png End\n"
     ]
    }
   ],
   "source": [
    "for painting in ['painting100.png','painting10.png','painting17.png']:\n",
    "    print(painting + \" Start\")\n",
    "    f = os.path.join(folder_path, painting)\n",
    "    \n",
    "    im = Image.open(f)\n",
    "    pixel_list = list(im.getdata())\n",
    "    width, height = im.size\n",
    "    \n",
    "    pixel_dict = {}\n",
    "    xy = 0\n",
    "    for y in range(height):\n",
    "        for x in range (width):\n",
    "            pixel_dict[(x,y)] = pixel_list[xy]      \n",
    "            xy += 1\n",
    "    \n",
    "    output = pd.DataFrame.from_dict(pixel_dict, orient='index').reset_index()\n",
    "    output['X'],output['Y'] = output['index'].str[0], output['index'].str[1]\n",
    "    output['width'] = width\n",
    "    output['height'] = height\n",
    "    output['filename'] = painting\n",
    "    print(painting + \" End\")\n",
    "    \n",
    "    output.to_csv(painting+'.csv')\n"
   ]
  },
  {
   "cell_type": "code",
   "execution_count": null,
   "id": "ac1d1b28",
   "metadata": {},
   "outputs": [],
   "source": []
  }
 ],
 "metadata": {
  "kernelspec": {
   "display_name": "Python 3 (ipykernel)",
   "language": "python",
   "name": "python3"
  },
  "language_info": {
   "codemirror_mode": {
    "name": "ipython",
    "version": 3
   },
   "file_extension": ".py",
   "mimetype": "text/x-python",
   "name": "python",
   "nbconvert_exporter": "python",
   "pygments_lexer": "ipython3",
   "version": "3.9.7"
  }
 },
 "nbformat": 4,
 "nbformat_minor": 5
}
